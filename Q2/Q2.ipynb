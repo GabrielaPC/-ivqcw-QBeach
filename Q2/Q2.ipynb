{
 "cells": [
  {
   "cell_type": "code",
   "execution_count": 2,
   "metadata": {},
   "outputs": [],
   "source": [
    "from qiskit import *\n",
    "\n",
    "from numpy import pi"
   ]
  },
  {
   "cell_type": "markdown",
   "metadata": {},
   "source": [
    "# Qual é essa porta lógica quântica II - o Retorno\n",
    "\n",
    "Você receberá uma operação que implementa uma transformação unitária em um único qubit: ela poderá ser ou a porta Y (com a possibilidade de uma fase global extra de -1) ou a sequência de portas Pauli Z e Pauli X (com a porta Z sendo aplicada primeiro e a X depois; com a possibilidade de uma fase global extra de -1).\n",
    "\n",
    "Seu objetivo é identificar qual das operações foi usada apenas olhando para o resultado de sua aplicação.\n",
    "\n",
    "Você deve usar o template da célula abaixo para apresentar sua solução implementando a função `qual_porta`. Nela, você deve retornar um número entre 0 e 3, apresentando qual é a porta lógica quântica passada no argumento `U`. Você deve retornar \n",
    "\n",
    "* 0 quando `U` for a porta Y,\n",
    "* 1 quando `U` for a porta -XZ,\n",
    "* 2 quando `U` for a porta -Y e\n",
    "* 3 quando `U` for a porta XZ.\n",
    "\n",
    "Você pode usar qualquer operação quântica para descobrir qual é a porta. O objetivo é usar seus conhecimentos de computação quântica para resolver este desafio, por isso, qualquer solução que não use computação quântica não será avaliada.\n",
    "\n",
    "\n",
    "**Importante:** Essa questão deve ser resolvida usando o Qiskit. Qualquer solução que não use a ferramenta será desconsiderada."
   ]
  },
  {
   "cell_type": "code",
   "execution_count": 3,
   "metadata": {},
   "outputs": [],
   "source": [
    "def run(cir, backend = \"qasm_simulator\"):\n",
    "    be = BasicAer.get_backend(backend)\n",
    "    job = execute(cir, be, shots=1)\n",
    "    resultado = job.result()\n",
    "    contagem = resultado.get_counts()\n",
    "    return contagem.popitem()[0]\n"
   ]
  },
  {
   "cell_type": "code",
   "execution_count": 7,
   "metadata": {},
   "outputs": [],
   "source": [
    "def qual_porta(U : QuantumCircuit) -> int:\n",
    "    \n",
    "    q = QuantumRegister(2, 'q')\n",
    "    c = ClassicalRegister(2, 'c')\n",
    "    circuit = QuantumCircuit(q, c)\n",
    "\n",
    "    #estado de bell\n",
    "    circuit.h(q)\n",
    "    circuit.cz(q[0],q[1])\n",
    "\n",
    "\n",
    "    #inserção de U \n",
    "    circuit.barrier(q[0], q[1])\n",
    "    \n",
    "    circuit.y(q[0])\n",
    "    circuit.barrier(q[0], q[1])\n",
    "\n",
    "    # inversão sobre a média \n",
    "    circuit.h(q[0])\n",
    "    circuit.h(q[1])\n",
    "    circuit.x(q[0])\n",
    "    circuit.x(q[1])\n",
    "    circuit.cz(q[0], q[1])\n",
    "    circuit.x(q[0])\n",
    "    circuit.x(q[1])\n",
    "    circuit.h(q[0])\n",
    "    circuit.h(q[1])\n",
    "    \n",
    "    circuit.measure(q[0], c[0])\n",
    "    circuit.measure(q[1], c[1])\n",
    "    \n",
    "    return int(run(circuit))"
   ]
  },
  {
   "cell_type": "markdown",
   "metadata": {},
   "source": [
    "> Não edite a partir daqui\n",
    "\n",
    "## Teste sua solução \n",
    "\n",
    "Você pode usar o código abaixo para testar sua solução. Lembrando que, caso sua solução chegue ao resultado correto sem o uso de computação quântica, ela será desconsiderada, "
   ]
  },
  {
   "cell_type": "code",
   "execution_count": 8,
   "metadata": {},
   "outputs": [],
   "source": [
    "from random import shuffle\n",
    "\n",
    "class Unitary:\n",
    "    def __init__(self, num):\n",
    "        self.qc = QuantumCircuit(1)\n",
    "        if num == 0:\n",
    "            self.Y()\n",
    "        elif num == 1:\n",
    "            self.mZX()\n",
    "        elif num == 2:\n",
    "            self.mY()\n",
    "        elif num == 3:\n",
    "            self.ZX()\n",
    "    \n",
    "    def Y(self):\n",
    "        self.qc.y(0)\n",
    "\n",
    "    def ZX(self):\n",
    "        self.qc.z(0)\n",
    "        self.qc.x(0)\n",
    "\n",
    "    def mY(self):\n",
    "        self.qc.z(0)\n",
    "        self.qc.x(0)\n",
    "        self.qc.y(0)\n",
    "        self.qc.z(0)\n",
    "        self.qc.x(0)\n",
    "\n",
    "    def mZX(self):\n",
    "        self.qc.x(0)\n",
    "        self.qc.z(0)\n",
    " \n",
    "     \n",
    "def testar_solucao():\n",
    "    tests = \\\n",
    "        [(Unitary(0), 0) for _ in range(10)] + \\\n",
    "        [(Unitary(1), 1) for _ in range(10)] + \\\n",
    "        [(Unitary(2), 2) for _ in range(10)] + \\\n",
    "        [(Unitary(3), 3) for _ in range(10)] \n",
    "    shuffle(tests)\n",
    "    ok = 0\n",
    "    for U, val in tests:\n",
    "        solucao = qual_porta(U.qc)\n",
    "        if val == solucao:\n",
    "            ok += 1\n",
    "    \n",
    "    print(f\"Solução {int((ok/len(tests))*100)}% correta\")"
   ]
  },
  {
   "cell_type": "code",
   "execution_count": 9,
   "metadata": {},
   "outputs": [],
   "source": [
    "testar_solucao()"
   ]
  },
  {
   "cell_type": "code",
   "execution_count": null,
   "metadata": {},
   "outputs": [],
   "source": []
  }
 ],
 "metadata": {
  "interpreter": {
   "hash": "2bea77b57edb05fec586817dbaa523eb581605156a3265bf3b292afb54c9c986"
  },
  "kernelspec": {
   "display_name": "Python 3",
   "language": "python",
   "name": "python3"
  },
  "language_info": {
   "codemirror_mode": {
    "name": "ipython",
    "version": 3
   },
   "file_extension": ".py",
   "mimetype": "text/x-python",
   "name": "python",
   "nbconvert_exporter": "python",
   "pygments_lexer": "ipython3",
   "version": "3.7.3"
  }
 },
 "nbformat": 4,
 "nbformat_minor": 5
}
